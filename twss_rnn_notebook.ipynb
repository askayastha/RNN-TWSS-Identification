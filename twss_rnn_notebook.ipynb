{
  "nbformat": 4,
  "nbformat_minor": 0,
  "metadata": {
    "colab": {
      "name": "twss-rnn.ipynb",
      "provenance": [],
      "collapsed_sections": [],
      "toc_visible": true
    },
    "kernelspec": {
      "name": "python3",
      "display_name": "Python 3"
    },
    "language_info": {
      "name": "python"
    },
    "accelerator": "GPU"
  },
  "cells": [
    {
      "cell_type": "markdown",
      "source": [
        "# Check the GPU"
      ],
      "metadata": {
        "id": "pLroJIUPCI71"
      }
    },
    {
      "cell_type": "code",
      "source": [
        "!nvidia-smi"
      ],
      "metadata": {
        "colab": {
          "base_uri": "https://localhost:8080/"
        },
        "id": "rEpsigmiCJYb",
        "outputId": "60ffb11a-809d-46d1-ee81-f461c8244764"
      },
      "execution_count": null,
      "outputs": [
        {
          "output_type": "stream",
          "name": "stdout",
          "text": [
            "Tue Jan 18 17:13:31 2022       \n",
            "+-----------------------------------------------------------------------------+\n",
            "| NVIDIA-SMI 495.46       Driver Version: 460.32.03    CUDA Version: 11.2     |\n",
            "|-------------------------------+----------------------+----------------------+\n",
            "| GPU  Name        Persistence-M| Bus-Id        Disp.A | Volatile Uncorr. ECC |\n",
            "| Fan  Temp  Perf  Pwr:Usage/Cap|         Memory-Usage | GPU-Util  Compute M. |\n",
            "|                               |                      |               MIG M. |\n",
            "|===============================+======================+======================|\n",
            "|   0  Tesla P100-PCIE...  Off  | 00000000:00:04.0 Off |                    0 |\n",
            "| N/A   36C    P0    26W / 250W |      0MiB / 16280MiB |      0%      Default |\n",
            "|                               |                      |                  N/A |\n",
            "+-------------------------------+----------------------+----------------------+\n",
            "                                                                               \n",
            "+-----------------------------------------------------------------------------+\n",
            "| Processes:                                                                  |\n",
            "|  GPU   GI   CI        PID   Type   Process name                  GPU Memory |\n",
            "|        ID   ID                                                   Usage      |\n",
            "|=============================================================================|\n",
            "|  No running processes found                                                 |\n",
            "+-----------------------------------------------------------------------------+\n"
          ]
        }
      ]
    },
    {
      "cell_type": "markdown",
      "source": [
        "# Imports"
      ],
      "metadata": {
        "id": "6gqsc71EzHn4"
      }
    },
    {
      "cell_type": "code",
      "source": [
        "import tensorflow as tf\n",
        "tf.__version__"
      ],
      "metadata": {
        "colab": {
          "base_uri": "https://localhost:8080/",
          "height": 36
        },
        "id": "s0nu9QdVzIIs",
        "outputId": "a5a9ded2-ada6-4272-fd35-8051daef9cef"
      },
      "execution_count": null,
      "outputs": [
        {
          "output_type": "execute_result",
          "data": {
            "application/vnd.google.colaboratory.intrinsic+json": {
              "type": "string"
            },
            "text/plain": [
              "'2.7.0'"
            ]
          },
          "metadata": {},
          "execution_count": 2
        }
      ]
    },
    {
      "cell_type": "code",
      "source": [
        "import os\n",
        "import numpy as np"
      ],
      "metadata": {
        "id": "bFZlIIXO-6W1"
      },
      "execution_count": null,
      "outputs": []
    },
    {
      "cell_type": "markdown",
      "metadata": {
        "id": "sjjSTBFiWe5N"
      },
      "source": [
        "# Get TWSS data"
      ]
    },
    {
      "cell_type": "code",
      "metadata": {
        "id": "nluCdePu3pA4"
      },
      "source": [
        "!mkdir -p data/\n",
        "!wget -q https://github.com/tansaku/twss/archive/refs/heads/master.zip -O data/twss.zip\n",
        "!unzip -q data/twss.zip -d data/"
      ],
      "execution_count": null,
      "outputs": []
    },
    {
      "cell_type": "code",
      "metadata": {
        "colab": {
          "base_uri": "https://localhost:8080/"
        },
        "id": "bcJD19hO39RZ",
        "outputId": "62a13a63-28d9-42c3-c597-2b19ad53f411"
      },
      "source": [
        "!ls data/twss-master/data/"
      ],
      "execution_count": null,
      "outputs": [
        {
          "output_type": "stream",
          "name": "stdout",
          "text": [
            "fml.txt\t\t     svm_model.pk\t  twssSample1.txt     usaquotes.txt.pk\n",
            "fml.txt.pk\t     test.pk\t\t  twssSample2.txt     vocab.pk\n",
            "README.txt\t     tfln.onesent.txt\t  twssstories.txt     vocab.txt\n",
            "sentenceSample1.txt  tfln.onesent.txt.pk  twssstories.txt.pk\n",
            "sentenceSample2.txt  train.pk\t\t  usaquotes.txt\n"
          ]
        }
      ]
    },
    {
      "cell_type": "markdown",
      "metadata": {
        "id": "ScACNKKvfYGu"
      },
      "source": [
        "# Organize the files in 'pos' and 'neg' directory"
      ]
    },
    {
      "cell_type": "code",
      "metadata": {
        "colab": {
          "base_uri": "https://localhost:8080/"
        },
        "id": "MGkQqzs94NoI",
        "outputId": "e1251ab9-749b-41a6-d56e-c57b8defc125"
      },
      "source": [
        "!mkdir -p data/pos/\n",
        "!mkdir -p data/neg/\n",
        "!cp data/twss-master/data/twssstories.txt data/pos/\n",
        "!cp data/twss-master/data/fml.txt data/neg/\n",
        "!cp data/twss-master/data/tfln.onesent.txt data/neg/\n",
        "!cp data/twss-master/data/usaquotes.txt data/neg/\n",
        "!ls data/pos/\n",
        "!ls data/neg/"
      ],
      "execution_count": null,
      "outputs": [
        {
          "output_type": "stream",
          "name": "stdout",
          "text": [
            "twssstories.txt\n",
            "fml.txt  tfln.onesent.txt  usaquotes.txt\n"
          ]
        }
      ]
    },
    {
      "cell_type": "markdown",
      "metadata": {
        "id": "SQH-tqN_VlrF"
      },
      "source": [
        "# Get GloVe Embeddings"
      ]
    },
    {
      "cell_type": "code",
      "metadata": {
        "colab": {
          "base_uri": "https://localhost:8080/"
        },
        "id": "wZ-BCkfzEBSP",
        "outputId": "760ac0c2-50a7-4a1f-9386-0c4499d632c4"
      },
      "source": [
        "# Get the GloVe embeddings\n",
        "!mkdir -p glove/\n",
        "!wget http://nlp.stanford.edu/data/glove.6B.zip -O glove/glove.6B.zip\n",
        "!unzip glove/glove.6B.zip -d glove/"
      ],
      "execution_count": null,
      "outputs": [
        {
          "output_type": "stream",
          "name": "stdout",
          "text": [
            "--2022-01-18 17:13:36--  http://nlp.stanford.edu/data/glove.6B.zip\n",
            "Resolving nlp.stanford.edu (nlp.stanford.edu)... 171.64.67.140\n",
            "Connecting to nlp.stanford.edu (nlp.stanford.edu)|171.64.67.140|:80... connected.\n",
            "HTTP request sent, awaiting response... 302 Found\n",
            "Location: https://nlp.stanford.edu/data/glove.6B.zip [following]\n",
            "--2022-01-18 17:13:37--  https://nlp.stanford.edu/data/glove.6B.zip\n",
            "Connecting to nlp.stanford.edu (nlp.stanford.edu)|171.64.67.140|:443... connected.\n",
            "HTTP request sent, awaiting response... 301 Moved Permanently\n",
            "Location: http://downloads.cs.stanford.edu/nlp/data/glove.6B.zip [following]\n",
            "--2022-01-18 17:13:37--  http://downloads.cs.stanford.edu/nlp/data/glove.6B.zip\n",
            "Resolving downloads.cs.stanford.edu (downloads.cs.stanford.edu)... 171.64.64.22\n",
            "Connecting to downloads.cs.stanford.edu (downloads.cs.stanford.edu)|171.64.64.22|:80... connected.\n",
            "HTTP request sent, awaiting response... 200 OK\n",
            "Length: 862182613 (822M) [application/zip]\n",
            "Saving to: ‘glove/glove.6B.zip’\n",
            "\n",
            "glove/glove.6B.zip  100%[===================>] 822.24M  4.92MB/s    in 2m 42s  \n",
            "\n",
            "2022-01-18 17:16:20 (5.08 MB/s) - ‘glove/glove.6B.zip’ saved [862182613/862182613]\n",
            "\n",
            "Archive:  glove/glove.6B.zip\n",
            "  inflating: glove/glove.6B.50d.txt  \n",
            "  inflating: glove/glove.6B.100d.txt  \n",
            "  inflating: glove/glove.6B.200d.txt  \n",
            "  inflating: glove/glove.6B.300d.txt  \n"
          ]
        }
      ]
    },
    {
      "cell_type": "code",
      "metadata": {
        "colab": {
          "base_uri": "https://localhost:8080/"
        },
        "id": "EKG8OvGJEEas",
        "outputId": "c5de05a2-c1d0-4675-edc6-b60376ce9723"
      },
      "source": [
        "!ls glove/"
      ],
      "execution_count": null,
      "outputs": [
        {
          "output_type": "stream",
          "name": "stdout",
          "text": [
            "glove.6B.100d.txt  glove.6B.300d.txt  glove.6B.zip\n",
            "glove.6B.200d.txt  glove.6B.50d.txt\n"
          ]
        }
      ]
    },
    {
      "cell_type": "code",
      "metadata": {
        "colab": {
          "base_uri": "https://localhost:8080/"
        },
        "id": "xQ8mB79fEHPF",
        "outputId": "9210f66c-1163-4baa-fa9c-48286d5e03bc"
      },
      "source": [
        "BASE_DIR = 'glove/'\n",
        "EMBEDDING_DIM = 300\n",
        "GLOVE_DIR = os.path.join(BASE_DIR, f'glove.6B.{EMBEDDING_DIM}d.txt')\n",
        "\n",
        "embeddings_index = {}\n",
        "with open(GLOVE_DIR) as f:\n",
        "    for line in f:\n",
        "        word, coefs = line.split(maxsplit=1)\n",
        "        coefs = np.fromstring(coefs, \"f\", sep=\" \")\n",
        "        embeddings_index[word] = coefs\n",
        "\n",
        "print(\"Found %s word vectors.\" % len(embeddings_index))"
      ],
      "execution_count": null,
      "outputs": [
        {
          "output_type": "stream",
          "name": "stdout",
          "text": [
            "Found 400000 word vectors.\n"
          ]
        }
      ]
    },
    {
      "cell_type": "code",
      "metadata": {
        "id": "4xsaDQZbLpYs"
      },
      "source": [
        "# embeddings_index['apple']"
      ],
      "execution_count": null,
      "outputs": []
    },
    {
      "cell_type": "markdown",
      "source": [
        "# Choose a class balance:\n",
        "Execute all the cells below after changing the class balance."
      ],
      "metadata": {
        "id": "KAbOwTQugr8T"
      }
    },
    {
      "cell_type": "code",
      "source": [
        "class_balance = 'Train/Test Balanced' #@param [\"Train/Test Balanced\", \"Only Test Balanced\", \"Train/Test Imbalanced\"]"
      ],
      "metadata": {
        "id": "kPbQehYZgrgH"
      },
      "execution_count": null,
      "outputs": []
    },
    {
      "cell_type": "markdown",
      "metadata": {
        "id": "-4UBvutiWoBo"
      },
      "source": [
        "# Create dataset from TWSS data"
      ]
    },
    {
      "cell_type": "code",
      "metadata": {
        "id": "gmgrGV2Dsjjn"
      },
      "source": [
        "TWSS_DIR = 'data/'\n",
        "\n",
        "texts = []\n",
        "labels = []\n",
        "\n",
        "# Change is_balanced to True for all preprocessing except imbalanced training data\n",
        "is_balanced = False if class_balance == 'Train/Test Imbalanced' else True\n",
        "\n",
        "for label_type in ['neg', 'pos']:\n",
        "    dir_name = os.path.join(TWSS_DIR, label_type)\n",
        "    for fname in os.listdir(dir_name):\n",
        "        if fname[-4:] == '.txt':\n",
        "            f = open(os.path.join(dir_name, fname), encoding='latin1')\n",
        "            for i, line in enumerate(f.readlines()):\n",
        "                if i >= 669 and label_type == 'neg' and is_balanced:\n",
        "                    texts.append(line.rstrip())\n",
        "                    labels.append(2)\n",
        "                    continue\n",
        "                texts.append(line.rstrip())\n",
        "                if label_type == 'neg':\n",
        "                    labels.append(0)\n",
        "                else:\n",
        "                    labels.append(1)\n",
        "            f.close()"
      ],
      "execution_count": null,
      "outputs": []
    },
    {
      "cell_type": "code",
      "metadata": {
        "id": "VYru03M9AvJ_",
        "colab": {
          "base_uri": "https://localhost:8080/"
        },
        "outputId": "4a1afe78-8e2c-49e0-cc16-df6b8e065134"
      },
      "source": [
        "print(\"Balanced Dataset:\", is_balanced)\n",
        "print(\"Samples Count:\", len(texts))\n",
        "print(\"Labels Count\", len(labels))"
      ],
      "execution_count": null,
      "outputs": [
        {
          "output_type": "stream",
          "name": "stdout",
          "text": [
            "Balanced Dataset: True\n",
            "Samples Count: 19863\n",
            "Labels Count 19863\n"
          ]
        }
      ]
    },
    {
      "cell_type": "markdown",
      "metadata": {
        "id": "2KhjvBhbO0TV"
      },
      "source": [
        "# Data Preprocessing"
      ]
    },
    {
      "cell_type": "code",
      "source": [
        "from keras.preprocessing.text import Tokenizer\n",
        "from keras.preprocessing.sequence import pad_sequences\n",
        "\n",
        "MAX_LEN = 100\n",
        "MAX_WORDS = 15000\n",
        "\n",
        "tokenizer = Tokenizer(num_words=MAX_WORDS)\n",
        "tokenizer.fit_on_texts(texts)\n",
        "sequences = tokenizer.texts_to_sequences(texts)\n",
        "word_index = tokenizer.word_index\n",
        "\n",
        "def preprocess_train_test_imbalanced(sequence_data, labels):\n",
        "    data = pad_sequences(sequence_data, maxlen=MAX_LEN, padding='post')\n",
        "    labels = np.asarray(labels)\n",
        "\n",
        "    # Shuffle data\n",
        "    indices = np.arange(data.shape[0])\n",
        "    np.random.shuffle(indices)\n",
        "    data = data[indices]\n",
        "    labels = labels[indices]\n",
        "\n",
        "    # Train/Test split\n",
        "    TEST_SPLIT = 0.9\n",
        "    N = round(len(data) * TEST_SPLIT)\n",
        "\n",
        "    train_X = data[:N]\n",
        "    train_Y = labels[:N]\n",
        "    test_X = data[N:]\n",
        "    test_Y = labels[N:]\n",
        "\n",
        "    return train_X, train_Y, test_X, test_Y\n",
        "\n",
        "\n",
        "def preprocess_only_test_balanced(sequence_data, labels):\n",
        "    all_data = pad_sequences(sequence_data, maxlen=MAX_LEN, padding='post')\n",
        "    all_labels = np.asarray(labels)\n",
        "\n",
        "    data_indices = [index for index, element in enumerate(all_labels) if element == 0 or element == 1]\n",
        "    extra_data_indices = [index for index, element in enumerate(all_labels) if element == 2]\n",
        "\n",
        "    data = all_data[np.asarray(data_indices)]\n",
        "    extra_data = all_data[np.asarray(extra_data_indices)]\n",
        "    print(\"Extra Data Length:\", extra_data.shape)\n",
        "\n",
        "    labels = all_labels[np.asarray(data_indices)]\n",
        "    extra_labels = all_labels[np.asarray(extra_data_indices)]\n",
        "    print(\"Extra Data Labels Length:\", extra_labels.shape)\n",
        "\n",
        "    # Change temp label '2' back to '0'\n",
        "    extra_labels = np.where(extra_labels == 2, 0, extra_labels)\n",
        "\n",
        "    # Shuffle data\n",
        "    indices = np.arange(data.shape[0])\n",
        "    np.random.shuffle(indices)\n",
        "    data = data[indices]\n",
        "    labels = labels[indices]\n",
        "\n",
        "    # Train-test split\n",
        "    TRAIN_SPLIT = 0.9\n",
        "    N = round(TRAIN_SPLIT * data.shape[0])\n",
        "\n",
        "    train_X = data[:N, :]\n",
        "    train_Y = labels[:N]\n",
        "    test_X = data[N:, :]\n",
        "    test_Y = labels[N:]\n",
        "\n",
        "    return train_X, train_Y, test_X, test_Y\n",
        "\n",
        "\n",
        "def preprocess_train_test_balanced(sequence_data, labels):\n",
        "    all_data = pad_sequences(sequence_data, maxlen=MAX_LEN, padding='post')\n",
        "    all_labels = np.asarray(labels)\n",
        "\n",
        "    data_indices = [index for index, element in enumerate(all_labels) if element == 0 or element == 1]\n",
        "\n",
        "    data = all_data[np.asarray(data_indices)]\n",
        "    labels = all_labels[np.asarray(data_indices)]\n",
        "\n",
        "    # Shuffle data\n",
        "    indices = np.arange(data.shape[0])\n",
        "    np.random.shuffle(indices)\n",
        "    data = data[indices]\n",
        "    labels = labels[indices]\n",
        "\n",
        "    # Train-test split\n",
        "    TEST_SPLIT = 0.9\n",
        "    N = round(len(data) * TEST_SPLIT)\n",
        "\n",
        "    train_X = data[:N]\n",
        "    train_Y = labels[:N]\n",
        "    test_X = data[N:]\n",
        "    test_Y = labels[N:]\n",
        "\n",
        "    return train_X, train_Y, test_X, test_Y"
      ],
      "metadata": {
        "id": "7BgpLlFxjA-V"
      },
      "execution_count": null,
      "outputs": []
    },
    {
      "cell_type": "code",
      "source": [
        "if class_balance == 'Train/Test Imbalanced':\n",
        "    train_X, train_Y, test_X, test_Y = preprocess_train_test_imbalanced(sequences, labels)\n",
        "\n",
        "elif class_balance == 'Only Test Balanced':\n",
        "    train_X, train_Y, test_X, test_Y = preprocess_only_test_balanced(sequences, labels)\n",
        "\n",
        "elif class_balance == 'Train/Test Balanced':\n",
        "    train_X, train_Y, test_X, test_Y = preprocess_train_test_balanced(sequences, labels)"
      ],
      "metadata": {
        "id": "DdFhZhLikpIW"
      },
      "execution_count": null,
      "outputs": []
    },
    {
      "cell_type": "code",
      "source": [
        "# Verify the shape of the data\n",
        "print(train_X.shape)\n",
        "print(train_Y.shape)\n",
        "print(test_X.shape)\n",
        "print(test_Y.shape)"
      ],
      "metadata": {
        "colab": {
          "base_uri": "https://localhost:8080/"
        },
        "id": "t7ByHO3jvdXE",
        "outputId": "257d7a88-0ed2-4f33-a43e-d1253e636e46"
      },
      "execution_count": null,
      "outputs": [
        {
          "output_type": "stream",
          "name": "stdout",
          "text": [
            "(3631, 100)\n",
            "(3631,)\n",
            "(403, 100)\n",
            "(403,)\n"
          ]
        }
      ]
    },
    {
      "cell_type": "code",
      "source": [
        "# Train/Test samples count\n",
        "print(\"Neg training samples count:\", np.count_nonzero(train_Y==0))\n",
        "print(\"Pos training samples count:\", np.count_nonzero(train_Y==1))\n",
        "\n",
        "print(\"Neg test samples count:\", np.count_nonzero(test_Y==0))\n",
        "print(\"Pos test samples count:\", np.count_nonzero(test_Y==1))\n",
        "\n",
        "print(\"Number of tokens: \", len(word_index))"
      ],
      "metadata": {
        "colab": {
          "base_uri": "https://localhost:8080/"
        },
        "id": "FL-o1dHI_gRE",
        "outputId": "31720e81-60a5-49bf-d2f1-714ad8a45010"
      },
      "execution_count": null,
      "outputs": [
        {
          "output_type": "stream",
          "name": "stdout",
          "text": [
            "Neg training samples count: 1811\n",
            "Pos training samples count: 1820\n",
            "Neg test samples count: 196\n",
            "Pos test samples count: 207\n",
            "Number of tokens:  20758\n"
          ]
        }
      ]
    },
    {
      "cell_type": "markdown",
      "metadata": {
        "id": "EcfaYNWLVtpm"
      },
      "source": [
        "# Encode TWSS words into embedding vectors"
      ]
    },
    {
      "cell_type": "code",
      "metadata": {
        "id": "a10KX2crMBJS",
        "colab": {
          "base_uri": "https://localhost:8080/"
        },
        "outputId": "45239cb8-092b-4082-ad44-754e4be6cdab"
      },
      "source": [
        "embedding_matrix = np.zeros((MAX_WORDS, EMBEDDING_DIM))\n",
        "for word, i in word_index.items():\n",
        "  if i < MAX_WORDS:\n",
        "    embedding_vector = embeddings_index.get(word)\n",
        "    if embedding_vector is not None:\n",
        "      embedding_matrix[i] = embedding_vector\n",
        "\n",
        "embedding_matrix.shape"
      ],
      "execution_count": null,
      "outputs": [
        {
          "output_type": "execute_result",
          "data": {
            "text/plain": [
              "(15000, 300)"
            ]
          },
          "metadata": {},
          "execution_count": 18
        }
      ]
    },
    {
      "cell_type": "markdown",
      "metadata": {
        "id": "waT4zNYWqoeA"
      },
      "source": [
        "# Define helper functions"
      ]
    },
    {
      "cell_type": "code",
      "metadata": {
        "id": "ODfU8VMeqRC4"
      },
      "source": [
        "def print_results(results, name):\n",
        "  print(f\"\\n{name} Results\")\n",
        "  print('-' * (len(name) + 1 + len(\"Results\")))\n",
        "  print(f\"Loss: {results[0]:.2f}\")\n",
        "  print(f\"Precision: {results[1]:.2%}\")\n",
        "  print(f\"Recall: {results[2]:.2%}\")\n",
        "  print(f\"AUC: {results[3]:.2%}\")\n",
        "  print(f\"Accuracy: {results[4]:.2%}\")"
      ],
      "execution_count": null,
      "outputs": []
    },
    {
      "cell_type": "markdown",
      "metadata": {
        "id": "TTPu5UJIVzzB"
      },
      "source": [
        "# Train the model"
      ]
    },
    {
      "cell_type": "code",
      "metadata": {
        "id": "dczFqCYdEhsO"
      },
      "source": [
        "BATCH_SIZE = 32\n",
        "EPOCHS = 10\n",
        "PRETRAINED_GLOVE = True\n",
        "MASKING = True\n",
        "RNN_TYPE = 'GRU'\n",
        "NEURAL_UNITS = 128\n",
        "DROPOUT = 0.2\n",
        "OPTIMIZER = 'Adam'\n",
        "LEARNING_RATE = 0.001"
      ],
      "execution_count": null,
      "outputs": []
    },
    {
      "cell_type": "code",
      "metadata": {
        "colab": {
          "base_uri": "https://localhost:8080/"
        },
        "id": "4X4aPF73MGBp",
        "outputId": "958310c0-cecd-44fd-96d9-f3fa36d49098"
      },
      "source": [
        "from tensorflow.keras.models import Sequential\n",
        "from tensorflow.keras.layers import Flatten, Dense, Embedding, Dropout\n",
        "from tensorflow.keras.metrics import Precision, Recall, BinaryAccuracy, AUC\n",
        "from tensorflow.keras.layers import LSTM, GRU, Bidirectional, Masking\n",
        "from tensorflow.keras.optimizers import Adam\n",
        "\n",
        "model = Sequential()\n",
        "\n",
        "if RNN_TYPE == 'None':\n",
        "  model.add(Embedding(MAX_WORDS, 50, mask_zero=MASKING, input_length=MAX_LEN))\n",
        "  model.add(Flatten())\n",
        "  model.add(Dense(64, activation='relu'))\n",
        "  model.add(Dense(1, activation='sigmoid'))\n",
        "else:\n",
        "  model.add(Embedding(MAX_WORDS, EMBEDDING_DIM, mask_zero=MASKING))\n",
        "  model.add(GRU(NEURAL_UNITS, dropout=DROPOUT))\n",
        "#   model.add(Bidirectional(GRU(NEURAL_UNITS, dropout=DROPOUT)))\n",
        "  model.add(Dense(1, activation='sigmoid'))\n",
        "\n",
        "if PRETRAINED_GLOVE:\n",
        "  model.layers[0].set_weights([embedding_matrix])\n",
        "  model.layers[0].trainable = False\n",
        "\n",
        "model.summary()\n",
        "model.compile(optimizer=Adam(learning_rate=LEARNING_RATE), loss='binary_crossentropy', metrics=[Precision(), Recall(), AUC(), BinaryAccuracy()])\n",
        "early_stopping_cb = tf.keras.callbacks.EarlyStopping(monitor='val_loss', mode='auto', verbose=1, patience=3)\n",
        "\n",
        "# For imbalanced training data but balanced test and validation data\n",
        "# history = model.fit(train_X, train_Y, epochs=10, batch_size=32, validation_data=(val_X, val_Y))\n",
        "\n",
        "# Validation split\n",
        "# history = model.fit(train_X, train_Y, epochs=100, batch_size=32,  callbacks=[es], validation_split=0.1)\n",
        "# history = model.fit(train_X, train_Y, epochs=10, batch_size=32, validation_split=0.1)\n",
        "\n",
        "# No validation split\n",
        "# history = model.fit(train_X, train_Y, epochs=100, batch_size=32,  callbacks=[es])\n",
        "history = model.fit(train_X, train_Y, epochs=EPOCHS, batch_size=BATCH_SIZE)\n",
        "\n",
        "# print(model.predict(data[:10,:]))\n",
        "# print(labels[:10])\n",
        "results = model.evaluate(test_X, test_Y)\n",
        "print_results(results, \"Test\")"
      ],
      "execution_count": null,
      "outputs": [
        {
          "output_type": "stream",
          "name": "stdout",
          "text": [
            "Model: \"sequential\"\n",
            "_________________________________________________________________\n",
            " Layer (type)                Output Shape              Param #   \n",
            "=================================================================\n",
            " embedding (Embedding)       (None, None, 300)         4500000   \n",
            "                                                                 \n",
            " bidirectional (Bidirectiona  (None, 256)              330240    \n",
            " l)                                                              \n",
            "                                                                 \n",
            " dense (Dense)               (None, 1)                 257       \n",
            "                                                                 \n",
            "=================================================================\n",
            "Total params: 4,830,497\n",
            "Trainable params: 330,497\n",
            "Non-trainable params: 4,500,000\n",
            "_________________________________________________________________\n",
            "Epoch 1/10\n",
            "114/114 [==============================] - 11s 16ms/step - loss: 0.2810 - precision: 0.8638 - recall: 0.8956 - auc: 0.9531 - binary_accuracy: 0.8769\n",
            "Epoch 2/10\n",
            "114/114 [==============================] - 2s 16ms/step - loss: 0.1455 - precision: 0.9381 - recall: 0.9495 - auc: 0.9868 - binary_accuracy: 0.9433\n",
            "Epoch 3/10\n",
            "114/114 [==============================] - 2s 16ms/step - loss: 0.1072 - precision: 0.9558 - recall: 0.9615 - auc: 0.9932 - binary_accuracy: 0.9584\n",
            "Epoch 4/10\n",
            "114/114 [==============================] - 2s 16ms/step - loss: 0.0782 - precision: 0.9652 - recall: 0.9742 - auc: 0.9963 - binary_accuracy: 0.9694\n",
            "Epoch 5/10\n",
            "114/114 [==============================] - 2s 17ms/step - loss: 0.0536 - precision: 0.9813 - recall: 0.9797 - auc: 0.9984 - binary_accuracy: 0.9804\n",
            "Epoch 6/10\n",
            "114/114 [==============================] - 2s 16ms/step - loss: 0.0363 - precision: 0.9874 - recall: 0.9901 - auc: 0.9992 - binary_accuracy: 0.9887\n",
            "Epoch 7/10\n",
            "114/114 [==============================] - 2s 16ms/step - loss: 0.0269 - precision: 0.9901 - recall: 0.9896 - auc: 0.9997 - binary_accuracy: 0.9898\n",
            "Epoch 8/10\n",
            "114/114 [==============================] - 2s 16ms/step - loss: 0.0188 - precision: 0.9929 - recall: 0.9940 - auc: 0.9998 - binary_accuracy: 0.9934\n",
            "Epoch 9/10\n",
            "114/114 [==============================] - 2s 16ms/step - loss: 0.0309 - precision: 0.9858 - recall: 0.9885 - auc: 0.9995 - binary_accuracy: 0.9871\n",
            "Epoch 10/10\n",
            "114/114 [==============================] - 2s 16ms/step - loss: 0.0115 - precision: 0.9962 - recall: 0.9967 - auc: 1.0000 - binary_accuracy: 0.9964\n",
            "13/13 [==============================] - 2s 7ms/step - loss: 0.1448 - precision: 0.9610 - recall: 0.9517 - auc: 0.9883 - binary_accuracy: 0.9553\n",
            "\n",
            "Test Results\n",
            "------------\n",
            "Loss: 0.14\n",
            "Precision: 96.10%\n",
            "Recall: 95.17%\n",
            "AUC: 98.83%\n",
            "Accuracy: 95.53%\n"
          ]
        }
      ]
    },
    {
      "cell_type": "code",
      "metadata": {
        "id": "EqxEq-AuZ612",
        "colab": {
          "base_uri": "https://localhost:8080/"
        },
        "outputId": "9c54fd65-1929-4306-d18a-4f6956966be0"
      },
      "source": [
        "print(history.history.keys())"
      ],
      "execution_count": null,
      "outputs": [
        {
          "output_type": "stream",
          "name": "stdout",
          "text": [
            "dict_keys(['loss', 'precision', 'recall', 'auc', 'binary_accuracy'])\n"
          ]
        }
      ]
    },
    {
      "cell_type": "markdown",
      "metadata": {
        "id": "42_oqfwQWOVz"
      },
      "source": [
        "# Visualize test evaluation"
      ]
    },
    {
      "cell_type": "code",
      "metadata": {
        "id": "WDceycKsrgXI",
        "colab": {
          "base_uri": "https://localhost:8080/",
          "height": 295
        },
        "outputId": "6e381e29-37c4-4943-9fa2-692bc553ed7f"
      },
      "source": [
        "from sklearn.metrics import precision_recall_curve\n",
        "import matplotlib.pyplot as plt\n",
        "\n",
        "preds_Y = model.predict(test_X)\n",
        "\n",
        "precision, recall, thresholds = precision_recall_curve(test_Y, preds_Y)\n",
        "\n",
        "plt.plot(recall, precision, label=f'{class_balance} Model')\n",
        "plt.title(f'Precision-Recall Curve')\n",
        "# axis labels\n",
        "plt.xlabel('Recall')\n",
        "plt.ylabel('Precision')\n",
        "# show the legend\n",
        "plt.legend()\n",
        "# plt.savefig(\"best_model_pr-rc.png\", dpi=256, format='png')\n",
        "# show the plot\n",
        "plt.show()"
      ],
      "execution_count": null,
      "outputs": [
        {
          "output_type": "display_data",
          "data": {
            "image/png": "[encoded data removed]",
            "text/plain": [
              "<Figure size 432x288 with 1 Axes>"
            ]
          },
          "metadata": {
            "needs_background": "light"
          }
        }
      ]
    },
    {
      "cell_type": "code",
      "metadata": {
        "id": "aUcqOvW4Z2Hl",
        "colab": {
          "base_uri": "https://localhost:8080/",
          "height": 281
        },
        "outputId": "40dbbe73-210d-41a8-fa80-4ec826362c4c"
      },
      "source": [
        "import matplotlib.pyplot as plt\n",
        "\n",
        "hist_keys = list(history.history.keys())\n",
        "\n",
        "def plot_acc_loss(history):\n",
        "    history_dict = history.history\n",
        "\n",
        "    loss = history_dict['loss']\n",
        "\n",
        "    epochs = range(1, len(loss) + 1)\n",
        "\n",
        "    plt.plot(epochs, loss, '-', label='Training loss')\n",
        "    plt.title('Training loss')\n",
        "    plt.legend()\n",
        "\n",
        "    # plt.savefig(\"best_model_loss.png\", dpi=144, format='png')\n",
        "    plt.show()\n",
        "\n",
        "plot_acc_loss(history)"
      ],
      "execution_count": null,
      "outputs": [
        {
          "output_type": "display_data",
          "data": {
            "image/png": "[encoded data removed]",
            "text/plain": [
              "<Figure size 432x288 with 1 Axes>"
            ]
          },
          "metadata": {
            "needs_background": "light"
          }
        }
      ]
    },
    {
      "cell_type": "markdown",
      "metadata": {
        "id": "OmmIG_T2V6DZ"
      },
      "source": [
        "# Qualitative Evaluation"
      ]
    },
    {
      "cell_type": "code",
      "metadata": {
        "colab": {
          "base_uri": "https://localhost:8080/"
        },
        "id": "nHxlgwnOeP9L",
        "outputId": "e6ecaf26-db6d-42cd-9245-2259e8ac6b6a"
      },
      "source": [
        "from collections import OrderedDict\n",
        "\n",
        "sample_twss = OrderedDict({\n",
        "    \"Wow! I cannot believe it. This is much bigger than I thought it would be.\": 1,\n",
        "    \"He’s under a lot of pressure, which builds up until he’s ready to explode. It’s my job to release that pressure.\": 1,\n",
        "    \"Please don't make it harder than it has to be.\": 1,\n",
        "    \"I was trying all night yesterday, but I couldn't get it in.\": 1,\n",
        "    \"I fear the people will not quietly submit to those restraints which are necessary for the peace and security of the community.\": 0,\n",
        "    \"I am going to go home tonight and find a place to put this.\": 1,\n",
        "    \"I will be completely honest with you, I wanted this so bad I could taste it.\": 1,\n",
        "    \"Thank You! This is a true honour and I'm glad that I came.\": 1,\n",
        "    \"I love eating apples, bananas and mango.\": 0,\n",
        "    \"I love eating bananas.\": 1,\n",
        "    \"I like banana trees.\": 0,\n",
        "    \"I love reading books.\": 0,\n",
        "    \"I spilled water all over the floor.\": 0,\n",
        "    \"You really think you can go all day long.\": 1,\n",
        "    \"Well, you always left me satisfied and smiling.\": 1,\n",
        "    \"Well, you always left me angry.\": 0,\n",
        "    \"Why did you get it so big?\": 1,\n",
        "    \"Why did you get it so late?\": 0,\n",
        "    \"Does the skin look red and swollen?\": 1,\n",
        "    \"That thing looks red and swollen\": 1,\n",
        "    \"That thing looks long, red and swollen.\": 1,\n",
        "    \"You already did me!\": 1,\n",
        "    \"I can't stay on top of you 24/7.\": 1,\n",
        "    \"You don't need to be banging that hard.\": 1,\n",
        "    \"You don't need to bang that hard.\": 1,\n",
        "    \"Don't bang on the door that hard.\": 0,\n",
        "    \"Long, hard and fast.\": 1,\n",
        "    \"Can you grab my banana for a while?\": 1,\n",
        "    \"Don’t you think these buns are a little too big for this meat?\": 1,\n",
        "    \"No matter what you have heard, size matters.\": 1,\n",
        "    \"No matter what you have heard, grade matters.\": 0,\n",
        "    \"Can I play with your joystick?\": 1,\n",
        "    \"Do you want to grab lunch?\": 0,\n",
        "})\n",
        "\n",
        "sequences = tokenizer.texts_to_sequences(list(sample_twss.keys()))\n",
        "twss_data = pad_sequences(sequences, maxlen=MAX_LEN)\n",
        "\n",
        "sample_results = model.evaluate(twss_data, np.array(list(sample_twss.values())))\n",
        "print_results(sample_results, \"Sample Test\")\n",
        "\n",
        "predictions = model.predict(twss_data)\n",
        "\n",
        "for i, sample in enumerate(sample_twss):\n",
        "  print(f'\\n{sample} => {predictions[i][0]*100:.2f}%')"
      ],
      "execution_count": null,
      "outputs": [
        {
          "output_type": "stream",
          "name": "stdout",
          "text": [
            "2/2 [==============================] - 0s 59ms/step - loss: 1.1836 - precision: 0.7692 - recall: 0.8696 - auc: 0.7174 - binary_accuracy: 0.7273\n",
            "\n",
            "Sample Test Results\n",
            "-------------------\n",
            "Loss: 1.18\n",
            "Precision: 76.92%\n",
            "Recall: 86.96%\n",
            "AUC: 71.74%\n",
            "Accuracy: 72.73%\n",
            "\n",
            "Wow! I cannot believe it. This is much bigger than I thought it would be. => 100.00%\n",
            "\n",
            "He’s under a lot of pressure, which builds up until he’s ready to explode. It’s my job to release that pressure. => 98.79%\n",
            "\n",
            "Please don't make it harder than it has to be. => 99.84%\n",
            "\n",
            "I was trying all night yesterday, but I couldn't get it in. => 28.94%\n",
            "\n",
            "I fear the people will not quietly submit to those restraints which are necessary for the peace and security of the community. => 0.00%\n",
            "\n",
            "I am going to go home tonight and find a place to put this. => 67.63%\n",
            "\n",
            "I will be completely honest with you, I wanted this so bad I could taste it. => 80.23%\n",
            "\n",
            "Thank You! This is a true honour and I'm glad that I came. => 77.87%\n",
            "\n",
            "I love eating apples, bananas and mango. => 0.04%\n",
            "\n",
            "I love eating bananas. => 28.40%\n",
            "\n",
            "I like banana trees. => 58.58%\n",
            "\n",
            "I love reading books. => 1.14%\n",
            "\n",
            "I spilled water all over the floor. => 96.59%\n",
            "\n",
            "You really think you can go all day long. => 100.00%\n",
            "\n",
            "Well, you always left me satisfied and smiling. => 30.96%\n",
            "\n",
            "Well, you always left me angry. => 95.50%\n",
            "\n",
            "Why did you get it so big? => 100.00%\n",
            "\n",
            "Why did you get it so late? => 99.94%\n",
            "\n",
            "Does the skin look red and swollen? => 99.98%\n",
            "\n",
            "That thing looks red and swollen => 99.71%\n",
            "\n",
            "That thing looks long, red and swollen. => 99.76%\n",
            "\n",
            "You already did me! => 99.97%\n",
            "\n",
            "I can't stay on top of you 24/7. => 98.18%\n",
            "\n",
            "You don't need to be banging that hard. => 100.00%\n",
            "\n",
            "You don't need to bang that hard. => 100.00%\n",
            "\n",
            "Don't bang on the door that hard. => 100.00%\n",
            "\n",
            "Long, hard and fast. => 99.97%\n",
            "\n",
            "Can you grab my banana for a while? => 98.66%\n",
            "\n",
            "Don’t you think these buns are a little too big for this meat? => 99.95%\n",
            "\n",
            "No matter what you have heard, size matters. => 96.93%\n",
            "\n",
            "No matter what you have heard, grade matters. => 1.59%\n",
            "\n",
            "Can I play with your joystick? => 99.88%\n",
            "\n",
            "Do you want to grab lunch? => 99.99%\n"
          ]
        }
      ]
    }
  ]
}