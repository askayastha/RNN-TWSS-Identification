{
  "nbformat": 4,
  "nbformat_minor": 0,
  "metadata": {
    "colab": {
      "name": "cps680-project.ipynb",
      "provenance": [],
      "collapsed_sections": [
        "zVtl2HkpWU_I",
        "ph7XO0oZ1EfL"
      ]
    },
    "kernelspec": {
      "name": "python3",
      "display_name": "Python 3"
    },
    "language_info": {
      "name": "python"
    },
    "accelerator": "GPU"
  },
  "cells": [
    {
      "cell_type": "markdown",
      "metadata": {
        "id": "sjjSTBFiWe5N"
      },
      "source": [
        "# Get TWSS data"
      ]
    },
    {
      "cell_type": "code",
      "metadata": {
        "id": "nluCdePu3pA4"
      },
      "source": [
        "!mkdir -p /opt/data/\n",
        "!wget -q https://github.com/tansaku/twss/archive/refs/heads/master.zip -O /opt/data/twss.zip\n",
        "!unzip -q /opt/data/twss.zip -d /opt/data/"
      ],
      "execution_count": null,
      "outputs": []
    },
    {
      "cell_type": "code",
      "metadata": {
        "colab": {
          "base_uri": "https://localhost:8080/"
        },
        "id": "bcJD19hO39RZ",
        "outputId": "d2747ace-4d1d-43cd-a86e-867b42ec628a"
      },
      "source": [
        "!ls /opt/data/twss-master/data/"
      ],
      "execution_count": null,
      "outputs": [
        {
          "output_type": "stream",
          "text": [
            "fml.txt\t\t     svm_model.pk\t  twssSample1.txt     usaquotes.txt.pk\n",
            "fml.txt.pk\t     test.pk\t\t  twssSample2.txt     vocab.pk\n",
            "README.txt\t     tfln.onesent.txt\t  twssstories.txt     vocab.txt\n",
            "sentenceSample1.txt  tfln.onesent.txt.pk  twssstories.txt.pk\n",
            "sentenceSample2.txt  train.pk\t\t  usaquotes.txt\n"
          ],
          "name": "stdout"
        }
      ]
    },
    {
      "cell_type": "markdown",
      "metadata": {
        "id": "ScACNKKvfYGu"
      },
      "source": [
        "# Organize the files in 'pos' and 'neg' directory"
      ]
    },
    {
      "cell_type": "code",
      "metadata": {
        "colab": {
          "base_uri": "https://localhost:8080/"
        },
        "id": "MGkQqzs94NoI",
        "outputId": "0b527849-c643-49f8-ae7c-e6c9999dac4b"
      },
      "source": [
        "!mkdir -p /opt/data/pos/\n",
        "!mkdir -p /opt/data/neg/\n",
        "!cp /opt/data/twss-master/data/twssstories.txt /opt/data/pos/\n",
        "!cp /opt/data/twss-master/data/fml.txt /opt/data/neg/\n",
        "!cp /opt/data/twss-master/data/tfln.onesent.txt /opt/data/neg/\n",
        "!cp /opt/data/twss-master/data/usaquotes.txt /opt/data/neg/\n",
        "!ls /opt/data/pos/\n",
        "!ls /opt/data/neg/"
      ],
      "execution_count": null,
      "outputs": [
        {
          "output_type": "stream",
          "text": [
            "twssstories.txt\n",
            "fml.txt  tfln.onesent.txt  usaquotes.txt\n"
          ],
          "name": "stdout"
        }
      ]
    },
    {
      "cell_type": "markdown",
      "metadata": {
        "id": "-4UBvutiWoBo"
      },
      "source": [
        "# Read data as samples and targets"
      ]
    },
    {
      "cell_type": "code",
      "metadata": {
        "id": "gmgrGV2Dsjjn"
      },
      "source": [
        "import os\n",
        "import numpy as np\n",
        "\n",
        "TWSS_DIR = '/opt/data/'\n",
        "\n",
        "labels = []\n",
        "texts = []\n",
        "\n",
        "for label_type in ['neg', 'pos']:\n",
        "  dir_name = os.path.join(TWSS_DIR, label_type)\n",
        "  for fname in os.listdir(dir_name):\n",
        "    if fname[-4:] == '.txt':\n",
        "      f = open(os.path.join(dir_name, fname), encoding='latin1')\n",
        "      for i, line in enumerate(f.readlines()):\n",
        "        # Uncomment for balanced data\n",
        "        if i >= 669 and label_type == 'neg':\n",
        "          texts.append(line.rstrip())\n",
        "          labels.append(2)\n",
        "          continue\n",
        "        texts.append(line.rstrip())\n",
        "        if label_type == 'neg':\n",
        "          labels.append(0)\n",
        "        else:\n",
        "          labels.append(1)\n",
        "      f.close()"
      ],
      "execution_count": null,
      "outputs": []
    },
    {
      "cell_type": "code",
      "metadata": {
        "colab": {
          "base_uri": "https://localhost:8080/"
        },
        "id": "VYru03M9AvJ_",
        "outputId": "9935dc2f-3aa6-451c-baff-a11b170f12bf"
      },
      "source": [
        "print(\"Total Samples\")\n",
        "print(len(texts))\n",
        "print(len(labels))"
      ],
      "execution_count": null,
      "outputs": [
        {
          "output_type": "stream",
          "text": [
            "Total Samples\n",
            "19863\n",
            "19863\n"
          ],
          "name": "stdout"
        }
      ]
    },
    {
      "cell_type": "markdown",
      "metadata": {
        "id": "zVtl2HkpWU_I"
      },
      "source": [
        "# Preprocessing with balanced training data"
      ]
    },
    {
      "cell_type": "code",
      "metadata": {
        "colab": {
          "base_uri": "https://localhost:8080/"
        },
        "id": "AsA6ELCX5fll",
        "outputId": "7cc015e5-cd0a-4acc-986f-1dcdca55489c"
      },
      "source": [
        "from keras.preprocessing.text import Tokenizer\n",
        "from keras.preprocessing.sequence import pad_sequences\n",
        "\n",
        "MAX_LEN = 100\n",
        "MAX_WORDS = 20000\n",
        "\n",
        "tokenizer = Tokenizer(num_words=MAX_WORDS)\n",
        "tokenizer.fit_on_texts(texts)\n",
        "sequences = tokenizer.texts_to_sequences(texts)\n",
        "word_index = tokenizer.word_index\n",
        "\n",
        "# print(sequences[:5])\n",
        "# for s in sequences[:5]:\n",
        "#   print(len(s))\n",
        "\n",
        "# print([*word_index][:5])\n",
        "\n",
        "all_data = pad_sequences(sequences, maxlen=MAX_LEN, padding='post')\n",
        "all_labels = np.asarray(labels)\n",
        "\n",
        "data_indices = [index for index, element in enumerate(all_labels) if element == 0 or element == 1]\n",
        "extra_data_indices = [index for index, element in enumerate(all_labels) if element == 2]\n",
        "\n",
        "data = all_data[np.asarray(data_indices)]\n",
        "extra_data = all_data[np.asarray(extra_data_indices)]\n",
        "\n",
        "labels = all_labels[np.asarray(data_indices)]\n",
        "extra_labels = all_labels[np.asarray(extra_data_indices)]\n",
        "\n",
        "# Change temp label '2' back to '0'\n",
        "extra_labels = np.where(extra_labels == 2, 0, extra_labels)\n",
        "\n",
        "# Shuffle data\n",
        "indices = np.arange(data.shape[0])\n",
        "np.random.shuffle(indices)\n",
        "data = data[indices]\n",
        "labels = labels[indices]\n",
        "\n",
        "# Train-test split\n",
        "TEST_SPLIT = 0.9\n",
        "N = round(len(data) * TEST_SPLIT)\n",
        "\n",
        "train_X = data[:N]\n",
        "train_Y = labels[:N]\n",
        "test_X = data[N:]\n",
        "test_Y = labels[N:]\n",
        "\n",
        "# Verify the shape of the data\n",
        "print(train_X.shape)\n",
        "print(train_Y.shape)\n",
        "print(test_X.shape)\n",
        "print(test_Y.shape)\n",
        "\n",
        "# print(data[:5])\n",
        "# for s in data[:5]:\n",
        "#   print(len(s))\n",
        "\n",
        "# print(labels[:5])"
      ],
      "execution_count": null,
      "outputs": [
        {
          "output_type": "stream",
          "text": [
            "(3631, 100)\n",
            "(3631,)\n",
            "(403, 100)\n",
            "(403,)\n"
          ],
          "name": "stdout"
        }
      ]
    },
    {
      "cell_type": "code",
      "metadata": {
        "colab": {
          "base_uri": "https://localhost:8080/"
        },
        "id": "kPnOxdu4xgND",
        "outputId": "2d5a4a23-ac87-4e5d-aa68-80be8a5b3708"
      },
      "source": [
        "print(\"Neg training samples count:\", np.count_nonzero(train_Y==0))\n",
        "print(\"Pos training samples count:\", np.count_nonzero(train_Y==1))\n",
        "\n",
        "print(\"Neg test samples count:\", np.count_nonzero(test_Y==0))\n",
        "print(\"Pos test samples count:\", np.count_nonzero(test_Y==1))\n",
        "\n",
        "print(\"Number of tokens: \", len(word_index))"
      ],
      "execution_count": null,
      "outputs": [
        {
          "output_type": "stream",
          "text": [
            "Neg training samples count: 1808\n",
            "Pos training samples count: 1823\n",
            "Neg test samples count: 199\n",
            "Pos test samples count: 204\n",
            "Number of tokens:  20758\n"
          ],
          "name": "stdout"
        }
      ]
    },
    {
      "cell_type": "markdown",
      "metadata": {
        "id": "ph7XO0oZ1EfL"
      },
      "source": [
        "# Preprocessing with imbalanced training data but balanced test and validation data"
      ]
    },
    {
      "cell_type": "code",
      "metadata": {
        "colab": {
          "base_uri": "https://localhost:8080/"
        },
        "id": "3Y7HaBIX1CYQ",
        "outputId": "cb59bb27-27fc-4192-a61b-b8bf705ff07f"
      },
      "source": [
        "from keras.preprocessing.text import Tokenizer\n",
        "from keras.preprocessing.sequence import pad_sequences\n",
        "\n",
        "MAX_LEN = 100\n",
        "MAX_WORDS = 15000\n",
        "\n",
        "tokenizer = Tokenizer(num_words=MAX_WORDS)\n",
        "tokenizer.fit_on_texts(texts)\n",
        "sequences = tokenizer.texts_to_sequences(texts)\n",
        "word_index = tokenizer.word_index\n",
        "\n",
        "# print(sequences[:5])\n",
        "# for s in sequences[:5]:\n",
        "#   print(len(s))\n",
        "\n",
        "# print([*word_index][:5])\n",
        "\n",
        "all_data = pad_sequences(sequences, maxlen=MAX_LEN, padding='post')\n",
        "all_labels = np.asarray(labels)\n",
        "\n",
        "data_indices = [index for index, element in enumerate(all_labels) if element == 0 or element == 1]\n",
        "extra_data_indices = [index for index, element in enumerate(all_labels) if element == 2]\n",
        "\n",
        "data = all_data[np.asarray(data_indices)]\n",
        "extra_data = all_data[np.asarray(extra_data_indices)]\n",
        "print(\"Extra Data Length:\", extra_data.shape)\n",
        "\n",
        "labels = all_labels[np.asarray(data_indices)]\n",
        "extra_labels = all_labels[np.asarray(extra_data_indices)]\n",
        "print(\"Extra Data Labels Length:\", extra_labels.shape)\n",
        "\n",
        "# Change temp label '2' back to '0'\n",
        "extra_labels = np.where(extra_labels == 2, 0, extra_labels)\n",
        "\n",
        "# Shuffle data\n",
        "indices = np.arange(data.shape[0])\n",
        "np.random.shuffle(indices)\n",
        "data = data[indices]\n",
        "labels = labels[indices]\n",
        "\n",
        "# Train-test split\n",
        "TRAIN_SPLIT = 0.9\n",
        "N = round(TRAIN_SPLIT * data.shape[0])\n",
        "\n",
        "train_X = data[:N, :]\n",
        "train_Y = labels[:N]\n",
        "test_X = data[N:, :]\n",
        "test_Y = labels[N:]\n",
        "\n",
        "# Pull the last 10% as a validation set\n",
        "N = round(TRAIN_SPLIT * train_X.shape[0])\n",
        "val_X = train_X[N:, :]\n",
        "val_Y = train_Y[N:]\n",
        "train_X = train_X[:N, :]\n",
        "train_Y = train_Y[:N]\n",
        "\n",
        "# Verify the shape of the data\n",
        "print(train_X.shape)\n",
        "print(train_Y.shape)\n",
        "print(test_X.shape)\n",
        "print(test_Y.shape)\n",
        "print(val_X.shape)\n",
        "print(val_Y.shape)\n",
        "\n",
        "train_X = np.concatenate((train_X, extra_data))\n",
        "train_Y = np.concatenate((train_Y, extra_labels))\n",
        "\n",
        "print(train_X.shape)\n",
        "print(train_Y.shape)\n",
        "\n",
        "# print(data[:5])\n",
        "# for s in data[:5]:\n",
        "#   print(len(s))\n",
        "\n",
        "# print(labels[:5])"
      ],
      "execution_count": null,
      "outputs": [
        {
          "output_type": "stream",
          "text": [
            "Extra Data Length: (15829, 100)\n",
            "Extra Data Labels Length: (15829,)\n",
            "(3268, 100)\n",
            "(3268,)\n",
            "(403, 100)\n",
            "(403,)\n",
            "(363, 100)\n",
            "(363,)\n",
            "(19097, 100)\n",
            "(19097,)\n"
          ],
          "name": "stdout"
        }
      ]
    },
    {
      "cell_type": "code",
      "metadata": {
        "colab": {
          "base_uri": "https://localhost:8080/"
        },
        "id": "Kj9MeMWbFHEZ",
        "outputId": "97ebeeb0-0f21-4347-82b5-2f930b955b39"
      },
      "source": [
        "print(\"Neg training samples count:\", np.count_nonzero(train_Y==0))\n",
        "print(\"Pos training samples count:\", np.count_nonzero(train_Y==1))\n",
        "\n",
        "print(\"Neg test samples count:\", np.count_nonzero(test_Y==0))\n",
        "print(\"Pos test samples count:\", np.count_nonzero(test_Y==1))\n",
        "\n",
        "print(\"Neg val samples count:\", np.count_nonzero(val_Y ==0))\n",
        "print(\"Pos val samples count:\", np.count_nonzero(val_Y==1))\n",
        "\n",
        "print(\"Number of tokens: \", len(word_index))"
      ],
      "execution_count": null,
      "outputs": [
        {
          "output_type": "stream",
          "text": [
            "Neg training samples count: 17451\n",
            "Pos training samples count: 1646\n",
            "Neg test samples count: 202\n",
            "Pos test samples count: 201\n",
            "Neg val samples count: 183\n",
            "Pos val samples count: 180\n",
            "Number of tokens:  20758\n"
          ],
          "name": "stdout"
        }
      ]
    },
    {
      "cell_type": "markdown",
      "metadata": {
        "id": "CdslUdfndFHo"
      },
      "source": [
        "# Preprocessing with imbalanced training data"
      ]
    },
    {
      "cell_type": "code",
      "metadata": {
        "colab": {
          "base_uri": "https://localhost:8080/"
        },
        "id": "kdjLm9DhdB-g",
        "outputId": "0fa1ffe9-8996-4b3d-ab83-ba194921c747"
      },
      "source": [
        "from keras.preprocessing.text import Tokenizer\n",
        "from keras.preprocessing.sequence import pad_sequences\n",
        "\n",
        "MAX_LEN = 100\n",
        "MAX_WORDS = 20000\n",
        "\n",
        "tokenizer = Tokenizer(num_words=MAX_WORDS)\n",
        "tokenizer.fit_on_texts(texts)\n",
        "sequences = tokenizer.texts_to_sequences(texts)\n",
        "word_index = tokenizer.word_index\n",
        "\n",
        "# print(sequences[:5])\n",
        "# for s in sequences[:5]:\n",
        "#   print(len(s))\n",
        "\n",
        "# print([*word_index][:5])\n",
        "\n",
        "data = pad_sequences(sequences, maxlen=MAX_LEN, padding='post')\n",
        "labels = np.asarray(labels)\n",
        "\n",
        "# Shuffle data\n",
        "indices = np.arange(data.shape[0])\n",
        "np.random.shuffle(indices)\n",
        "data = data[indices]\n",
        "labels = labels[indices]\n",
        "\n",
        "# Train-test split\n",
        "TEST_SPLIT = 0.9\n",
        "N = round(len(data) * TEST_SPLIT)\n",
        "\n",
        "train_X = data[:N]\n",
        "train_Y = labels[:N]\n",
        "test_X = data[N:]\n",
        "test_Y = labels[N:]\n",
        "\n",
        "# Verify the shape of the data\n",
        "print(train_X.shape)\n",
        "print(train_Y.shape)\n",
        "print(test_X.shape)\n",
        "print(test_Y.shape)\n",
        "\n",
        "# print(data[:5])\n",
        "# for s in data[:5]:\n",
        "#   print(len(s))\n",
        "\n",
        "# print(labels[:5])"
      ],
      "execution_count": null,
      "outputs": [
        {
          "output_type": "stream",
          "text": [
            "(17877, 100)\n",
            "(17877,)\n",
            "(1986, 100)\n",
            "(1986,)\n"
          ],
          "name": "stdout"
        }
      ]
    },
    {
      "cell_type": "code",
      "metadata": {
        "colab": {
          "base_uri": "https://localhost:8080/"
        },
        "id": "DW_L-GwnFufz",
        "outputId": "2eca0f09-e1ed-41db-a020-b998e157ed12"
      },
      "source": [
        "print(\"Neg training samples count:\", np.count_nonzero(train_Y==0))\n",
        "print(\"Pos training samples count:\", np.count_nonzero(train_Y==1))\n",
        "\n",
        "print(\"Neg test samples count:\", np.count_nonzero(test_Y==0))\n",
        "print(\"Pos test samples count:\", np.count_nonzero(test_Y==1))\n",
        "\n",
        "print(\"Number of tokens: \", len(word_index))"
      ],
      "execution_count": null,
      "outputs": [
        {
          "output_type": "stream",
          "text": [
            "Neg training samples count: 16051\n",
            "Pos training samples count: 1826\n",
            "Neg test samples count: 1785\n",
            "Pos test samples count: 201\n",
            "Number of tokens:  20758\n"
          ],
          "name": "stdout"
        }
      ]
    },
    {
      "cell_type": "markdown",
      "metadata": {
        "id": "SQH-tqN_VlrF"
      },
      "source": [
        "# Setup GloVe Embeddings"
      ]
    },
    {
      "cell_type": "code",
      "metadata": {
        "colab": {
          "base_uri": "https://localhost:8080/"
        },
        "id": "wZ-BCkfzEBSP",
        "outputId": "cfc72b0c-138e-418c-d574-5d198fe31d30"
      },
      "source": [
        "# Get the GloVe embeddings\n",
        "!mkdir -p /opt/data/\n",
        "!wget http://nlp.stanford.edu/data/glove.6B.zip -O /opt/data/glove.6B.zip\n",
        "!unzip /opt/data/glove.6B.zip -d /opt/data/"
      ],
      "execution_count": null,
      "outputs": [
        {
          "output_type": "stream",
          "text": [
            "--2021-04-16 19:48:01--  http://nlp.stanford.edu/data/glove.6B.zip\n",
            "Resolving nlp.stanford.edu (nlp.stanford.edu)... 171.64.67.140\n",
            "Connecting to nlp.stanford.edu (nlp.stanford.edu)|171.64.67.140|:80... connected.\n",
            "HTTP request sent, awaiting response... 302 Found\n",
            "Location: https://nlp.stanford.edu/data/glove.6B.zip [following]\n",
            "--2021-04-16 19:48:01--  https://nlp.stanford.edu/data/glove.6B.zip\n",
            "Connecting to nlp.stanford.edu (nlp.stanford.edu)|171.64.67.140|:443... connected.\n",
            "HTTP request sent, awaiting response... 301 Moved Permanently\n",
            "Location: http://downloads.cs.stanford.edu/nlp/data/glove.6B.zip [following]\n",
            "--2021-04-16 19:48:01--  http://downloads.cs.stanford.edu/nlp/data/glove.6B.zip\n",
            "Resolving downloads.cs.stanford.edu (downloads.cs.stanford.edu)... 171.64.64.22\n",
            "Connecting to downloads.cs.stanford.edu (downloads.cs.stanford.edu)|171.64.64.22|:80... connected.\n",
            "HTTP request sent, awaiting response... 200 OK\n",
            "Length: 862182613 (822M) [application/zip]\n",
            "Saving to: ‘/opt/data/glove.6B.zip’\n",
            "\n",
            "/opt/data/glove.6B. 100%[===================>] 822.24M  5.19MB/s    in 2m 40s  \n",
            "\n",
            "2021-04-16 19:50:41 (5.15 MB/s) - ‘/opt/data/glove.6B.zip’ saved [862182613/862182613]\n",
            "\n",
            "Archive:  /opt/data/glove.6B.zip\n",
            "  inflating: /opt/data/glove.6B.50d.txt  \n",
            "  inflating: /opt/data/glove.6B.100d.txt  \n",
            "  inflating: /opt/data/glove.6B.200d.txt  \n",
            "  inflating: /opt/data/glove.6B.300d.txt  \n"
          ],
          "name": "stdout"
        }
      ]
    },
    {
      "cell_type": "code",
      "metadata": {
        "colab": {
          "base_uri": "https://localhost:8080/"
        },
        "id": "EKG8OvGJEEas",
        "outputId": "51825119-3a25-4ea0-991d-5b639da331bf"
      },
      "source": [
        "!ls /opt/data/"
      ],
      "execution_count": null,
      "outputs": [
        {
          "output_type": "stream",
          "text": [
            "glove.6B.100d.txt  glove.6B.300d.txt  glove.6B.zip  pos\t\t twss.zip\n",
            "glove.6B.200d.txt  glove.6B.50d.txt   neg\t    twss-master\n"
          ],
          "name": "stdout"
        }
      ]
    },
    {
      "cell_type": "code",
      "metadata": {
        "colab": {
          "base_uri": "https://localhost:8080/"
        },
        "id": "xQ8mB79fEHPF",
        "outputId": "2cebb3e7-59c1-4fe8-e531-fbcf87c7e601"
      },
      "source": [
        "import os\n",
        "\n",
        "BASE_DIR = '/opt/data/'\n",
        "EMBEDDING_DIM = 300\n",
        "GLOVE_DIR = os.path.join(BASE_DIR, f'glove.6B.{EMBEDDING_DIM}d.txt')\n",
        "\n",
        "embeddings_index = {}\n",
        "with open(GLOVE_DIR) as f:\n",
        "    for line in f:\n",
        "        word, coefs = line.split(maxsplit=1)\n",
        "        coefs = np.fromstring(coefs, \"f\", sep=\" \")\n",
        "        embeddings_index[word] = coefs\n",
        "\n",
        "print(\"Found %s word vectors.\" % len(embeddings_index))"
      ],
      "execution_count": null,
      "outputs": [
        {
          "output_type": "stream",
          "text": [
            "Found 400000 word vectors.\n"
          ],
          "name": "stdout"
        }
      ]
    },
    {
      "cell_type": "code",
      "metadata": {
        "id": "4xsaDQZbLpYs"
      },
      "source": [
        "# embeddings_index['apple']"
      ],
      "execution_count": null,
      "outputs": []
    },
    {
      "cell_type": "markdown",
      "metadata": {
        "id": "EcfaYNWLVtpm"
      },
      "source": [
        "# Encode TWSS words into embedding vectors"
      ]
    },
    {
      "cell_type": "code",
      "metadata": {
        "id": "5hLTzYMcgicZ"
      },
      "source": [
        "# Use all the all the words in the training data\n",
        "MAX_WORDS = len(word_index)"
      ],
      "execution_count": null,
      "outputs": []
    },
    {
      "cell_type": "code",
      "metadata": {
        "id": "a10KX2crMBJS",
        "colab": {
          "base_uri": "https://localhost:8080/"
        },
        "outputId": "02bf9160-25ac-49be-a672-c4b93b8402d5"
      },
      "source": [
        "embedding_matrix = np.zeros((MAX_WORDS, EMBEDDING_DIM))\n",
        "for word, i in word_index.items():\n",
        "  if i < MAX_WORDS:\n",
        "    embedding_vector = embeddings_index.get(word)\n",
        "    if embedding_vector is not None:\n",
        "      embedding_matrix[i] = embedding_vector\n",
        "\n",
        "embedding_matrix.shape"
      ],
      "execution_count": null,
      "outputs": [
        {
          "output_type": "execute_result",
          "data": {
            "text/plain": [
              "(20758, 300)"
            ]
          },
          "metadata": {
            "tags": []
          },
          "execution_count": 172
        }
      ]
    },
    {
      "cell_type": "markdown",
      "metadata": {
        "id": "waT4zNYWqoeA"
      },
      "source": [
        "# Define helper functions"
      ]
    },
    {
      "cell_type": "code",
      "metadata": {
        "id": "ODfU8VMeqRC4"
      },
      "source": [
        "def print_results(results, name):\n",
        "  print(f\"\\n{name} Results\")\n",
        "  print('-' * (len(name) + 1 + len(\"Results\")))\n",
        "  print(f\"Loss: {results[0]*100:.2f}%\")\n",
        "  print(f\"Precision: {results[1]*100:.2f}%\")\n",
        "  print(f\"Recall: {results[2]*100:.2f}%\")\n",
        "  print(f\"AUC: {results[3]*100:.2f}%\")\n",
        "  print(f\"Accuracy: {results[4]*100:.2f}%\")"
      ],
      "execution_count": null,
      "outputs": []
    },
    {
      "cell_type": "markdown",
      "metadata": {
        "id": "TTPu5UJIVzzB"
      },
      "source": [
        "# Train the model"
      ]
    },
    {
      "cell_type": "code",
      "metadata": {
        "colab": {
          "base_uri": "https://localhost:8080/"
        },
        "id": "4X4aPF73MGBp",
        "outputId": "78549a80-901f-43ef-bf22-d9ba6867ad2b"
      },
      "source": [
        "from keras.models import Sequential\n",
        "from keras.layers import Flatten, Dense, Embedding, Dropout\n",
        "from keras.metrics import Precision, Recall, BinaryAccuracy, AUC\n",
        "from keras.layers import LSTM, GRU, Bidirectional, Masking\n",
        "from keras.optimizers import Adam\n",
        "from keras.callbacks import EarlyStopping\n",
        "\n",
        "model = Sequential()\n",
        "# model.add(Embedding(MAX_WORDS, EMBEDDING_DIM, mask_zero=False, input_length=MAX_LEN))\n",
        "model.add(Embedding(MAX_WORDS, EMBEDDING_DIM, mask_zero=True))\n",
        "# model.add(Masking(mask_value=0, input_shape=(MAX_LEN, EMBEDDING_DIM)))\n",
        "model.add(GRU(128, dropout=0.2))\n",
        "# model.add(Bidirectional(GRU(128, dropout=0.5)))\n",
        "# model.add(Flatten())\n",
        "# model.add(Dense(64, activation='relu'))\n",
        "model.add(Dense(1, activation='sigmoid'))\n",
        "\n",
        "model.layers[0].set_weights([embedding_matrix])\n",
        "model.layers[0].trainable = False\n",
        "model.summary()\n",
        "model.compile(optimizer=Adam(learning_rate=0.001), loss='binary_crossentropy', metrics=[Precision(), Recall(), AUC(), BinaryAccuracy()])\n",
        "es = EarlyStopping(monitor='val_loss', mode='auto', verbose=1, patience=3)\n",
        "\n",
        "# For imbalanced training data but balanced test and validation data\n",
        "# history = model.fit(train_X, train_Y, epochs=10, batch_size=32, validation_data=(val_X, val_Y))\n",
        "\n",
        "# Validation split\n",
        "# history = model.fit(train_X, train_Y, epochs=100, batch_size=32,  callbacks=[es], validation_split=0.1)\n",
        "# history = model.fit(train_X, train_Y, epochs=10, batch_size=32, validation_split=0.1)\n",
        "\n",
        "# No validation split\n",
        "# history = model.fit(train_X, train_Y, epochs=100, batch_size=32,  callbacks=[es])\n",
        "history = model.fit(train_X, train_Y, epochs=10, batch_size=32)\n",
        "\n",
        "# print(model.predict(data[:10,:]))\n",
        "# print(labels[:10])\n",
        "results = model.evaluate(test_X, test_Y)\n",
        "print_results(results, \"Test\")"
      ],
      "execution_count": null,
      "outputs": [
        {
          "output_type": "stream",
          "text": [
            "Model: \"sequential_33\"\n",
            "_________________________________________________________________\n",
            "Layer (type)                 Output Shape              Param #   \n",
            "=================================================================\n",
            "embedding_34 (Embedding)     (None, None, 300)         6227400   \n",
            "_________________________________________________________________\n",
            "gru_33 (GRU)                 (None, 128)               165120    \n",
            "_________________________________________________________________\n",
            "dense_32 (Dense)             (None, 1)                 129       \n",
            "=================================================================\n",
            "Total params: 6,392,649\n",
            "Trainable params: 165,249\n",
            "Non-trainable params: 6,227,400\n",
            "_________________________________________________________________\n",
            "Epoch 1/10\n",
            "114/114 [==============================] - 6s 14ms/step - loss: 0.4851 - precision_31: 0.7145 - recall_31: 0.8085 - auc_31: 0.8175 - binary_accuracy: 0.7331\n",
            "Epoch 2/10\n",
            "114/114 [==============================] - 2s 13ms/step - loss: 0.1634 - precision_31: 0.9323 - recall_31: 0.9520 - auc_31: 0.9836 - binary_accuracy: 0.9411\n",
            "Epoch 3/10\n",
            "114/114 [==============================] - 2s 13ms/step - loss: 0.1247 - precision_31: 0.9378 - recall_31: 0.9573 - auc_31: 0.9907 - binary_accuracy: 0.9476\n",
            "Epoch 4/10\n",
            "114/114 [==============================] - 2s 14ms/step - loss: 0.0998 - precision_31: 0.9680 - recall_31: 0.9563 - auc_31: 0.9943 - binary_accuracy: 0.9625\n",
            "Epoch 5/10\n",
            "114/114 [==============================] - 2s 14ms/step - loss: 0.0720 - precision_31: 0.9727 - recall_31: 0.9731 - auc_31: 0.9969 - binary_accuracy: 0.9727\n",
            "Epoch 6/10\n",
            "114/114 [==============================] - 2s 13ms/step - loss: 0.0573 - precision_31: 0.9871 - recall_31: 0.9775 - auc_31: 0.9973 - binary_accuracy: 0.9819\n",
            "Epoch 7/10\n",
            "114/114 [==============================] - 2s 13ms/step - loss: 0.0416 - precision_31: 0.9788 - recall_31: 0.9855 - auc_31: 0.9991 - binary_accuracy: 0.9816\n",
            "Epoch 8/10\n",
            "114/114 [==============================] - 2s 13ms/step - loss: 0.0497 - precision_31: 0.9790 - recall_31: 0.9874 - auc_31: 0.9985 - binary_accuracy: 0.9823\n",
            "Epoch 9/10\n",
            "114/114 [==============================] - 1s 13ms/step - loss: 0.0271 - precision_31: 0.9913 - recall_31: 0.9900 - auc_31: 0.9996 - binary_accuracy: 0.9905\n",
            "Epoch 10/10\n",
            "114/114 [==============================] - 2s 14ms/step - loss: 0.0298 - precision_31: 0.9856 - recall_31: 0.9935 - auc_31: 0.9995 - binary_accuracy: 0.9892\n",
            "13/13 [==============================] - 1s 7ms/step - loss: 0.1486 - precision_31: 0.9490 - recall_31: 0.9789 - auc_31: 0.9859 - binary_accuracy: 0.9653\n",
            "\n",
            "Test Results\n",
            "------------\n",
            "Loss: 14.86%\n",
            "Precision: 94.90%\n",
            "Recall: 97.89%\n",
            "AUC: 98.59%\n",
            "Accuracy: 96.53%\n"
          ],
          "name": "stdout"
        }
      ]
    },
    {
      "cell_type": "code",
      "metadata": {
        "id": "EqxEq-AuZ612"
      },
      "source": [
        "print(history.history.keys())"
      ],
      "execution_count": null,
      "outputs": []
    },
    {
      "cell_type": "markdown",
      "metadata": {
        "id": "42_oqfwQWOVz"
      },
      "source": [
        "# Visualize test evaluation"
      ]
    },
    {
      "cell_type": "code",
      "metadata": {
        "colab": {
          "base_uri": "https://localhost:8080/",
          "height": 295
        },
        "id": "WDceycKsrgXI",
        "outputId": "ba5c9801-e50d-4f39-cd4a-934c55552b9e"
      },
      "source": [
        "from sklearn.metrics import precision_recall_curve\n",
        "import matplotlib.pyplot as plt\n",
        "\n",
        "preds_Y = model.predict(test_X)\n",
        "\n",
        "precision, recall, thresholds = precision_recall_curve(test_Y, preds_Y)\n",
        "\n",
        "plt.plot(recall, precision, marker='.', label='RNN Word Embedding')\n",
        "plt.title(f'Precision-Recall Curve')\n",
        "# axis labels\n",
        "plt.xlabel('Recall')\n",
        "plt.ylabel('Precision')\n",
        "# show the legend\n",
        "plt.legend()\n",
        "plt.savefig(\"best_model_pr-rc.png\", dpi=256, format='png')\n",
        "# show the plot\n",
        "plt.show()"
      ],
      "execution_count": null,
      "outputs": [
        {
          "output_type": "display_data",
          "data": {
            "image/png": "[encoded data removed]",
            "text/plain": [
              "<Figure size 432x288 with 1 Axes>"
            ]
          },
          "metadata": {
            "tags": [],
            "needs_background": "light"
          }
        }
      ]
    },
    {
      "cell_type": "code",
      "metadata": {
        "colab": {
          "base_uri": "https://localhost:8080/",
          "height": 545
        },
        "id": "aUcqOvW4Z2Hl",
        "outputId": "7b3b97aa-ac5d-407b-85e0-74dd6fb03173"
      },
      "source": [
        "import matplotlib.pyplot as plt\n",
        "\n",
        "hist_keys = list(history.history.keys())\n",
        "\n",
        "def plot_acc_loss(history):\n",
        "  history_dict = history.history\n",
        "\n",
        "  acc = history_dict[hist_keys[1]]\n",
        "  val_acc = history_dict[hist_keys[6]]\n",
        "  loss = history_dict['loss']\n",
        "  val_loss = history_dict['val_loss']\n",
        "\n",
        "  epochs = range(1, len(acc) + 1)\n",
        "\n",
        "  plt.plot(epochs, acc, 'bo', label=f'Accuracy')\n",
        "  plt.plot(epochs, val_acc, 'r', label=f'Validation Accuracy')\n",
        "  plt.title(f'Training and validation accuracy')\n",
        "  plt.legend()\n",
        "\n",
        "  # plt.savefig(\"best_model_acc.png\", dpi=144, format='png')\n",
        "  plt.figure()\n",
        "\n",
        "  plt.plot(epochs, loss, 'bo', label='Training loss')\n",
        "  plt.plot(epochs, val_loss, 'r', label='Validation loss')\n",
        "  plt.title('Training and validation loss')\n",
        "  plt.legend()\n",
        "\n",
        "  # plt.savefig(\"best_model_loss.png\", dpi=144, format='png')\n",
        "  plt.show()\n",
        "\n",
        "plot_acc_loss(history)"
      ],
      "execution_count": null,
      "outputs": [
        {
          "output_type": "display_data",
          "data": {
            "image/png": "[encoded data removed]",
            "text/plain": [
              "<Figure size 432x288 with 1 Axes>"
            ]
          },
          "metadata": {
            "tags": [],
            "needs_background": "light"
          }
        },
        {
          "output_type": "display_data",
          "data": {
            "image/png": "[encoded data removed]",
            "text/plain": [
              "<Figure size 432x288 with 1 Axes>"
            ]
          },
          "metadata": {
            "tags": [],
            "needs_background": "light"
          }
        }
      ]
    },
    {
      "cell_type": "code",
      "metadata": {
        "id": "usRkwW7hh9jM"
      },
      "source": [
        "test_X.shape"
      ],
      "execution_count": null,
      "outputs": []
    },
    {
      "cell_type": "markdown",
      "metadata": {
        "id": "TyeJt_6BbCPd"
      },
      "source": [
        "# Save the model"
      ]
    },
    {
      "cell_type": "code",
      "metadata": {
        "id": "EY5rx5oRbHKf"
      },
      "source": [
        "model.save('best_twss_model.h5')"
      ],
      "execution_count": null,
      "outputs": []
    },
    {
      "cell_type": "markdown",
      "metadata": {
        "id": "2UL68NUFbImI"
      },
      "source": [
        "# Load the model"
      ]
    },
    {
      "cell_type": "code",
      "metadata": {
        "id": "_e60qss2bMqe"
      },
      "source": [
        "from keras import models\n",
        "model = models.load_model('best_twss_model.h5')"
      ],
      "execution_count": null,
      "outputs": []
    },
    {
      "cell_type": "markdown",
      "metadata": {
        "id": "OmmIG_T2V6DZ"
      },
      "source": [
        "# Test the model"
      ]
    },
    {
      "cell_type": "code",
      "metadata": {
        "colab": {
          "base_uri": "https://localhost:8080/"
        },
        "id": "nHxlgwnOeP9L",
        "outputId": "c54cefc4-c25c-44f4-9354-7e1f9d0811cf"
      },
      "source": [
        "from collections import OrderedDict\n",
        "\n",
        "sample_twss = OrderedDict({\n",
        "    \"Wow! I cannot believe it. This is much bigger than I thought it would be.\": 1,\n",
        "    \"He’s under a lot of pressure, which builds up until he’s ready to explode. It’s my job to release that pressure.\": 1,\n",
        "    \"Please don't make it harder than it has to be.\": 1,\n",
        "    \"I was trying all night yesterday, but I couldn't get it in.\": 1,\n",
        "    \"I fear the people will not quietly submit to those restraints which are necessary for the peace and security of the community.\": 0,\n",
        "    \"I am going to go home tonight and find a place to put this.\": 1,\n",
        "    \"I will be completely honest with you, I wanted this so bad I could taste it.\": 1,\n",
        "    \"Thank You! This is a true honour and I'm glad that I came.\": 1,\n",
        "    \"I love eating apples, bananas and mango.\": 0,\n",
        "    \"I love eating bananas.\": 1,\n",
        "    \"I like banana trees.\": 0,\n",
        "    \"I love reading books.\": 0,\n",
        "    \"I spilled water all over the floor.\": 0,\n",
        "    \"You really think you can go all day long.\": 1,\n",
        "    \"Well, you always left me satisfied and smiling.\": 1,\n",
        "    \"Well, you always left me angry.\": 0,\n",
        "    \"Why did you get it so big?\": 1,\n",
        "    \"Why did you get it so late?\": 0,\n",
        "    \"Does the skin look red and swollen?\": 1,\n",
        "    \"That thing looks red and swollen\": 1,\n",
        "    \"That thing looks long, red and swollen.\": 1,\n",
        "    \"You already did me!\": 1,\n",
        "    \"I can't stay on top of you 24/7.\": 1,\n",
        "    \"You don't need to be banging that hard.\": 1,\n",
        "    \"You don't need to bang that hard.\": 1,\n",
        "    \"Don't bang on the door that hard.\": 0,\n",
        "    \"Long, hard and fast.\": 1,\n",
        "    \"Can you grab my banana for a while?\": 1\n",
        "})\n",
        "\n",
        "sequences = tokenizer.texts_to_sequences(list(sample_twss.keys()))\n",
        "twss_data = pad_sequences(sequences, maxlen=MAX_LEN)\n",
        "\n",
        "sample_results = model.evaluate(twss_data, np.array(list(sample_twss.values())))\n",
        "print_results(sample_results, \"Sample Test\")\n",
        "\n",
        "predictions = model.predict(twss_data)\n",
        "\n",
        "for i, sample in enumerate(sample_twss):\n",
        "  print(f'\\n{sample} => {predictions[i][0]*100:.2f}%')"
      ],
      "execution_count": null,
      "outputs": [
        {
          "output_type": "stream",
          "text": [
            "1/1 [==============================] - 0s 36ms/step - loss: 1.2751 - precision_31: 0.7917 - recall_31: 0.9500 - auc_31: 0.6188 - binary_accuracy: 0.7857\n",
            "\n",
            "Sample Test Results\n",
            "-------------------\n",
            "Loss: 127.51%\n",
            "Precision: 79.17%\n",
            "Recall: 95.00%\n",
            "AUC: 61.88%\n",
            "Accuracy: 78.57%\n",
            "\n",
            "Wow! I cannot believe it. This is much bigger than I thought it would be. => 99.99%\n",
            "\n",
            "He’s under a lot of pressure, which builds up until he’s ready to explode. It’s my job to release that pressure. => 99.99%\n",
            "\n",
            "Please don't make it harder than it has to be. => 99.91%\n",
            "\n",
            "I was trying all night yesterday, but I couldn't get it in. => 99.71%\n",
            "\n",
            "I fear the people will not quietly submit to those restraints which are necessary for the peace and security of the community. => 0.00%\n",
            "\n",
            "I am going to go home tonight and find a place to put this. => 88.43%\n",
            "\n",
            "I will be completely honest with you, I wanted this so bad I could taste it. => 98.74%\n",
            "\n",
            "Thank You! This is a true honour and I'm glad that I came. => 0.70%\n",
            "\n",
            "I love eating apples, bananas and mango. => 1.06%\n",
            "\n",
            "I love eating bananas. => 95.30%\n",
            "\n",
            "I like banana trees. => 80.93%\n",
            "\n",
            "I love reading books. => 11.96%\n",
            "\n",
            "I spilled water all over the floor. => 99.70%\n",
            "\n",
            "You really think you can go all day long. => 99.99%\n",
            "\n",
            "Well, you always left me satisfied and smiling. => 87.76%\n",
            "\n",
            "Well, you always left me angry. => 99.60%\n",
            "\n",
            "Why did you get it so big? => 100.00%\n",
            "\n",
            "Why did you get it so late? => 99.96%\n",
            "\n",
            "Does the skin look red and swollen? => 99.41%\n",
            "\n",
            "That thing looks red and swollen => 99.42%\n",
            "\n",
            "That thing looks long, red and swollen. => 99.75%\n",
            "\n",
            "You already did me! => 99.77%\n",
            "\n",
            "I can't stay on top of you 24/7. => 97.37%\n",
            "\n",
            "You don't need to be banging that hard. => 100.00%\n",
            "\n",
            "You don't need to bang that hard. => 100.00%\n",
            "\n",
            "Don't bang on the door that hard. => 99.99%\n",
            "\n",
            "Long, hard and fast. => 99.97%\n",
            "\n",
            "Can you grab my banana for a while? => 97.35%\n"
          ],
          "name": "stdout"
        }
      ]
    },
    {
      "cell_type": "markdown",
      "metadata": {
        "id": "avIy6H6gWJIH"
      },
      "source": [
        "# Evaluate extra data (Optional)"
      ]
    },
    {
      "cell_type": "code",
      "metadata": {
        "id": "Ms0Mqyrn9DyM"
      },
      "source": [
        "print(f\"Extra Data Length: {len(extra_data)}\", end='\\n\\n')\n",
        "print(model.evaluate(extra_data, extra_labels))"
      ],
      "execution_count": null,
      "outputs": []
    },
    {
      "cell_type": "code",
      "metadata": {
        "id": "6ZWEBEqXU4z8"
      },
      "source": [
        "model.save('test_model.h5')"
      ],
      "execution_count": null,
      "outputs": []
    }
  ]
}
